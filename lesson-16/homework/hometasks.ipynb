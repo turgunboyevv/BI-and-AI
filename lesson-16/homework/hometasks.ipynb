{
 "cells": [
  {
   "cell_type": "markdown",
   "metadata": {},
   "source": [
    "Task-1"
   ]
  },
  {
   "cell_type": "code",
   "execution_count": null,
   "metadata": {},
   "outputs": [],
   "source": [
    "import numpy as np\n",
    "\n",
    "# Fahrenheit to Celsius conversion function\n",
    "def fahrenheit_to_celsius(f):\n",
    "    return (f - 32) * (5 / 9)\n",
    "\n",
    "# Array of temperatures in Fahrenheit\n",
    "fahrenheit_temperatures = np.array([32, 68, 100, 212, 77])\n",
    "\n",
    "# Vectorizing the conversion function\n",
    "vectorized_conversion = np.vectorize(fahrenheit_to_celsius)\n",
    "\n",
    "# Converting the array\n",
    "celsius_temperatures = vectorized_conversion(fahrenheit_temperatures)\n",
    "print(\"Celsius Temperatures:\", celsius_temperatures)\n"
   ]
  },
  {
   "cell_type": "markdown",
   "metadata": {},
   "source": [
    "Task-2"
   ]
  },
  {
   "cell_type": "code",
   "execution_count": null,
   "metadata": {},
   "outputs": [],
   "source": [
    "# Custom power function\n",
    "def calculate_power(base, exponent):\n",
    "    return base ** exponent\n",
    "\n",
    "# Arrays of bases and exponents\n",
    "bases = np.array([2, 3, 4, 5])\n",
    "exponents = np.array([1, 2, 3, 4])\n",
    "\n",
    "# Vectorizing the power function\n",
    "vectorized_power = np.vectorize(calculate_power)\n",
    "\n",
    "# Calculating the powers\n",
    "results = vectorized_power(bases, exponents)\n",
    "print(\"Powers:\", results)\n"
   ]
  },
  {
   "cell_type": "markdown",
   "metadata": {},
   "source": [
    "Task-3"
   ]
  },
  {
   "cell_type": "code",
   "execution_count": null,
   "metadata": {},
   "outputs": [],
   "source": [
    "# Coefficients matrix\n",
    "A = np.array([\n",
    "    [4, 5, 6],\n",
    "    [3, -1, 1],\n",
    "    [2, 1, -2]\n",
    "])\n",
    "\n",
    "# Constants matrix\n",
    "B = np.array([7, 4, 5])\n",
    "\n",
    "# Solving the equations\n",
    "solution = np.linalg.solve(A, B)\n",
    "print(\"Solution for x, y, z:\", solution)\n"
   ]
  },
  {
   "cell_type": "markdown",
   "metadata": {},
   "source": [
    "Task-4"
   ]
  },
  {
   "cell_type": "code",
   "execution_count": null,
   "metadata": {},
   "outputs": [],
   "source": [
    "# Coefficients matrix\n",
    "A_circuit = np.array([\n",
    "    [10, -2, 3],\n",
    "    [-2, 8, -1],\n",
    "    [3, -1, 6]\n",
    "])\n",
    "\n",
    "# Constants matrix\n",
    "B_circuit = np.array([12, -5, 15])\n",
    "\n",
    "# Solving the equations\n",
    "currents = np.linalg.solve(A_circuit, B_circuit)\n",
    "print(\"Currents I1, I2, I3:\", currents)\n"
   ]
  }
 ],
 "metadata": {
  "language_info": {
   "name": "python"
  }
 },
 "nbformat": 4,
 "nbformat_minor": 2
}
