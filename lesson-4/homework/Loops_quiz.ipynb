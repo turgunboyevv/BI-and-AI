{
 "cells": [
  {
   "cell_type": "markdown",
   "metadata": {},
   "source": [
    "1. What is the output of the following loop"
   ]
  },
  {
   "cell_type": "code",
   "execution_count": 1,
   "metadata": {},
   "outputs": [
    {
     "name": "stdout",
     "output_type": "stream",
     "text": [
      "J, h, o, n, "
     ]
    }
   ],
   "source": [
    "for l in 'Jhon':\n",
    "   if l == 'o':\n",
    "      pass\n",
    "   print(l, end=\", \")"
   ]
  },
  {
   "cell_type": "markdown",
   "metadata": {},
   "source": [
    "2. What is the output of the following for loop and  range() function"
   ]
  },
  {
   "cell_type": "code",
   "execution_count": 2,
   "metadata": {},
   "outputs": [
    {
     "name": "stdout",
     "output_type": "stream",
     "text": [
      "-2, -3, -4, "
     ]
    }
   ],
   "source": [
    "for num in range(-2,-5,-1):\n",
    "    print(num, end=\", \")"
   ]
  },
  {
   "cell_type": "markdown",
   "metadata": {},
   "source": [
    "3. Given the nested if-else below, what will be the value x when the code executed successfully"
   ]
  },
  {
   "cell_type": "code",
   "execution_count": 3,
   "metadata": {},
   "outputs": [
    {
     "name": "stdout",
     "output_type": "stream",
     "text": [
      "3\n"
     ]
    }
   ],
   "source": [
    "x = 0\n",
    "a = 5\n",
    "b = 5\n",
    "if a > 0:\n",
    "    if b < 0: \n",
    "        x = x + 5 \n",
    "    elif a > 5:\n",
    "        x = x + 4\n",
    "    else:\n",
    "        x = x + 3\n",
    "else:\n",
    "    x = x + 2\n",
    "print(x)"
   ]
  },
  {
   "cell_type": "markdown",
   "metadata": {},
   "source": [
    "4. What is the value of x"
   ]
  },
  {
   "cell_type": "code",
   "execution_count": 4,
   "metadata": {},
   "outputs": [
    {
     "name": "stdout",
     "output_type": "stream",
     "text": [
      "100\n"
     ]
    }
   ],
   "source": [
    "x = 0\n",
    "while (x < 100):\n",
    "  x+=2\n",
    "print(x)"
   ]
  },
  {
   "cell_type": "markdown",
   "metadata": {},
   "source": [
    "5. What is the output of the following range() function"
   ]
  },
  {
   "cell_type": "code",
   "execution_count": 5,
   "metadata": {},
   "outputs": [
    {
     "name": "stdout",
     "output_type": "stream",
     "text": [
      "2, 1, 0, -1, -2, -3, -4, "
     ]
    }
   ],
   "source": [
    "for num in range(2,-5,-1):\n",
    "    print(num, end=\", \")"
   ]
  },
  {
   "cell_type": "markdown",
   "metadata": {},
   "source": [
    "6. What is the output of the following nested loop"
   ]
  },
  {
   "cell_type": "code",
   "execution_count": 7,
   "metadata": {},
   "outputs": [
    {
     "name": "stdout",
     "output_type": "stream",
     "text": [
      "10 Chair\n",
      "10 Table\n",
      "20 Chair\n",
      "20 Table\n"
     ]
    }
   ],
   "source": [
    "numbers = [10, 20]\n",
    "items = [\"Chair\", \"Table\"]\n",
    "\n",
    "for x in numbers:\n",
    "  for y in items:\n",
    "    print(x, y)"
   ]
  },
  {
   "cell_type": "markdown",
   "metadata": {},
   "source": [
    "7. Given the nested if-else structure below, what will be the value of x after code execution completes"
   ]
  },
  {
   "cell_type": "code",
   "execution_count": 8,
   "metadata": {},
   "outputs": [
    {
     "name": "stdout",
     "output_type": "stream",
     "text": [
      "2\n"
     ]
    }
   ],
   "source": [
    "x = 0\n",
    "a = 0\n",
    "b = -5\n",
    "if a > 0:\n",
    "    if b < 0: \n",
    "        x = x + 5 \n",
    "    elif a > 5:\n",
    "        x = x + 4\n",
    "    else:\n",
    "        x = x + 3\n",
    "else:\n",
    "    x = x + 2\n",
    "print(x)"
   ]
  },
  {
   "cell_type": "markdown",
   "metadata": {},
   "source": [
    "8. Select which is true for for loop"
   ]
  },
  {
   "cell_type": "markdown",
   "metadata": {},
   "source": [
    "Python’s for loop used to iterates over the items of list, tuple, dictionary, set, or string"
   ]
  },
  {
   "cell_type": "markdown",
   "metadata": {},
   "source": [
    "9. What is the output of the following if statement"
   ]
  },
  {
   "cell_type": "code",
   "execution_count": 9,
   "metadata": {},
   "outputs": [
    {
     "name": "stdout",
     "output_type": "stream",
     "text": [
      "True\n"
     ]
    }
   ],
   "source": [
    "a, b = 12, 5\n",
    "if a + b:\n",
    "    print('True')\n",
    "else:\n",
    "  print('False')"
   ]
  },
  {
   "cell_type": "markdown",
   "metadata": {},
   "source": [
    "10. What is the value of x after the following nested for loop completes its execution"
   ]
  },
  {
   "cell_type": "code",
   "execution_count": 10,
   "metadata": {},
   "outputs": [
    {
     "name": "stdout",
     "output_type": "stream",
     "text": [
      "1\n",
      "2\n",
      "3\n",
      "4\n",
      "5\n",
      "6\n",
      "7\n",
      "8\n",
      "9\n",
      "10\n",
      "11\n",
      "12\n",
      "13\n",
      "14\n",
      "15\n",
      "16\n",
      "17\n",
      "18\n",
      "19\n",
      "20\n",
      "21\n",
      "22\n",
      "23\n",
      "24\n",
      "25\n",
      "26\n",
      "27\n",
      "28\n",
      "29\n",
      "30\n",
      "31\n",
      "32\n",
      "33\n",
      "34\n",
      "35\n",
      "36\n",
      "37\n",
      "38\n",
      "39\n",
      "40\n",
      "41\n",
      "42\n",
      "43\n",
      "44\n",
      "45\n",
      "46\n",
      "47\n",
      "48\n",
      "49\n",
      "50\n",
      "51\n",
      "52\n",
      "53\n",
      "54\n",
      "55\n",
      "56\n",
      "57\n",
      "58\n",
      "59\n",
      "60\n",
      "61\n",
      "62\n",
      "63\n",
      "64\n",
      "65\n",
      "66\n",
      "67\n",
      "68\n",
      "69\n",
      "70\n",
      "71\n",
      "72\n",
      "73\n",
      "74\n",
      "75\n",
      "76\n",
      "77\n",
      "78\n",
      "79\n",
      "80\n",
      "81\n",
      "82\n",
      "83\n",
      "84\n",
      "85\n",
      "86\n",
      "87\n",
      "88\n",
      "89\n",
      "90\n"
     ]
    }
   ],
   "source": [
    "x = 0\n",
    "for i in range(10):\n",
    "  for j in range(-1, -10, -1):\n",
    "    x += 1\n",
    "    print(x)"
   ]
  },
  {
   "cell_type": "markdown",
   "metadata": {},
   "source": [
    "11. What is the value of the var after the for loop completes its execution"
   ]
  },
  {
   "cell_type": "code",
   "execution_count": 11,
   "metadata": {},
   "outputs": [
    {
     "name": "stdout",
     "output_type": "stream",
     "text": [
      "21\n"
     ]
    }
   ],
   "source": [
    "var = 10\n",
    "for i in range(10):\n",
    "    for j in range(2, 10, 1):\n",
    "        if var % 2 == 0:\n",
    "            continue\n",
    "            var += 1\n",
    "    var+=1\n",
    "else:\n",
    "    var+=1\n",
    "print(var)"
   ]
  },
  {
   "cell_type": "markdown",
   "metadata": {},
   "source": [
    "12. What is the output of the following nested loop?"
   ]
  },
  {
   "cell_type": "code",
   "execution_count": 12,
   "metadata": {},
   "outputs": [
    {
     "name": "stdout",
     "output_type": "stream",
     "text": [
      "10\n",
      "11\n",
      "12\n",
      "13\n"
     ]
    }
   ],
   "source": [
    "for num in range(10, 14):\n",
    "   for i in range(2, num):\n",
    "       if num%i == 1:\n",
    "          print(num)\n",
    "          break"
   ]
  },
  {
   "cell_type": "markdown",
   "metadata": {},
   "source": [
    "13. if -3 will evaluate to True"
   ]
  },
  {
   "cell_type": "markdown",
   "metadata": {},
   "source": [
    "True"
   ]
  },
  {
   "cell_type": "markdown",
   "metadata": {},
   "source": [
    "## 1. Return uncommon elements of lists. Order of elements does not matter."
   ]
  },
  {
   "cell_type": "code",
   "execution_count": 27,
   "metadata": {},
   "outputs": [
    {
     "name": "stdout",
     "output_type": "stream",
     "text": [
      "[1, 1, 3, 4]\n",
      "[1, 2, 3, 4, 5, 6]\n",
      "[2, 2, 5]\n"
     ]
    }
   ],
   "source": [
    "def uncommon_elements(list1, list2):\n",
    "    result1 = [elem for elem in list1 if elem not in list2]\n",
    "    \n",
    "    result2 = [elem for elem in list2 if elem not in list1]\n",
    "    \n",
    "    return result1 + result2\n",
    "\n",
    "\n",
    "list1 = [1, 1, 2]\n",
    "list2 = [2, 3, 4]\n",
    "print(uncommon_elements(list1, list2))\n",
    "\n",
    "list1 = [1, 2, 3]\n",
    "list2 = [4, 5, 6]\n",
    "print(uncommon_elements(list1, list2))\n",
    "\n",
    "list1 = [1, 1, 2, 3, 4, 2]\n",
    "list2 = [1, 3, 4, 5]\n",
    "print(uncommon_elements(list1, list2)) "
   ]
  },
  {
   "cell_type": "markdown",
   "metadata": {},
   "source": [
    "## 2. Print the square of each number which is less than n on a separate line."
   ]
  },
  {
   "cell_type": "code",
   "execution_count": 25,
   "metadata": {},
   "outputs": [
    {
     "name": "stdout",
     "output_type": "stream",
     "text": [
      "1\n",
      "4\n",
      "9\n",
      "16\n"
     ]
    }
   ],
   "source": [
    "def print_squares(n):\n",
    "    for i in range(1, n):\n",
    "        print(i * i)\n",
    "\n",
    "n = 5\n",
    "print_squares(n)"
   ]
  },
  {
   "cell_type": "markdown",
   "metadata": {},
   "source": [
    "3. txt nomli string saqlovchi o'zgaruvchi berilgan. txtdagi har uchinchi belgidan keyin pastgi chiziqcha (underscore) qo'yilsin. Agar belgi unli harf yoki orqasidan ostki chiziqcha qo'yilgan harf bo'lsa, ostki chiziqcha keyingi harfdan keyin qo'yilsin. Agar belgi satrdagi oxirgi belgi bo'lsa chiziqcha qo'yilmasin."
   ]
  },
  {
   "cell_type": "code",
   "execution_count": 26,
   "metadata": {},
   "outputs": [
    {
     "name": "stdout",
     "output_type": "stream",
     "text": [
      "hel_lo\n",
      "ass_alom\n",
      "abc_abc_dab_cdeabc_def_abc_def_g\n"
     ]
    }
   ],
   "source": [
    "def insert_underscore(txt):\n",
    "    vowels = \"aeiouAEIOU\"  # List of vowels to check\n",
    "    result = []  # To store the final result\n",
    "    length = len(txt)\n",
    "\n",
    "    for i in range(length):\n",
    "        result.append(txt[i])\n",
    "\n",
    "        if i != length - 1 and (i + 1) % 3 == 0:\n",
    "            if txt[i] not in vowels:\n",
    "                result.append('_')\n",
    "\n",
    "    return ''.join(result)\n",
    "\n",
    "print(insert_underscore(\"hello\"))\n",
    "print(insert_underscore(\"assalom\"))\n",
    "print(insert_underscore(\"abcabcdabcdeabcdefabcdefg\"))"
   ]
  },
  {
   "cell_type": "markdown",
   "metadata": {},
   "source": [
    "## 4. Number Guessing Game Create a simple number guessing game."
   ]
  },
  {
   "cell_type": "code",
   "execution_count": null,
   "metadata": {},
   "outputs": [
    {
     "ename": "SyntaxError",
     "evalue": "incomplete input (831599338.py, line 26)",
     "output_type": "error",
     "traceback": [
      "\u001b[1;36m  Cell \u001b[1;32mIn[28], line 26\u001b[1;36m\u001b[0m\n\u001b[1;33m    if play_again in ['y', 'yes', 'ok']:\u001b[0m\n\u001b[1;37m                                        ^\u001b[0m\n\u001b[1;31mSyntaxError\u001b[0m\u001b[1;31m:\u001b[0m incomplete input\n"
     ]
    }
   ],
   "source": [
    "def play_game():\n",
    "    secret_number = 'random.randint(1, 100)'\n",
    "    attempts = 10\n",
    "    \n",
    "    print(\"Welcome to the Number Guessing Game!\")\n",
    "    print(\"I have selected a number between 1 and 100.\")\n",
    "    print(\"You have 10 attempts to guess the correct number.\")\n",
    "    \n",
    "    while attempts > 0:\n",
    "        guess = int(input(f\"Attempt {11 - attempts}/10: Enter your guess: \"))\n",
    "        \n",
    "        if guess < secret_number:\n",
    "            print(\"Too low!\")\n",
    "        elif guess > secret_number:\n",
    "            print(\"Too high!\")\n",
    "        else:\n",
    "            print(\"You guessed it right!\")\n",
    "            break\n",
    "        \n",
    "        attempts -= 1\n",
    "\n",
    "    if attempts == 0:\n",
    "        print(f\"You lost. The correct number was {secret_number}.\")\n",
    "    \n",
    "    play_again = input(\"Want to play again? (Y/YES/y/yes/ok): \").strip().lower()\n",
    "    if play_again in ['y', 'yes', 'ok']:\n",
    "        "
   ]
  },
  {
   "cell_type": "markdown",
   "metadata": {},
   "source": [
    "## 5.Password Checker Task: Create a simple password checker."
   ]
  },
  {
   "cell_type": "code",
   "execution_count": 21,
   "metadata": {},
   "outputs": [
    {
     "name": "stdout",
     "output_type": "stream",
     "text": [
      "Password is too short.\n"
     ]
    }
   ],
   "source": [
    "password = 'AB10329c'\n",
    "\n",
    "#Function to check the password strength\n",
    "def check_password_strength(password):\n",
    "    # Check if the password is shorter than 8 characters\n",
    "    if len(password) < 8:\n",
    "        print(\"Password is too short.\")\n",
    "    # Check if the password doesn't contain at least one uppercase letter\n",
    "    elif not any(char.isupper() for char in password):\n",
    "        print(\"Password must contain an uppercase letter.\")\n",
    "    # If the password meets both criteria, it's considered strong\n",
    "    else:\n",
    "        print(\"Password is strong.\")\n",
    "\n",
    "# Ask the user to enter a password\n",
    "password = input(\"Enter your password: \")\n",
    "\n",
    "# Check the strength of the password\n",
    "check_password_strength(password)"
   ]
  },
  {
   "cell_type": "markdown",
   "metadata": {},
   "source": [
    "## 6. Prime Numbers Task: Write a Python program that prints all prime numbers between 1 and 100."
   ]
  },
  {
   "cell_type": "code",
   "execution_count": 18,
   "metadata": {},
   "outputs": [
    {
     "name": "stdout",
     "output_type": "stream",
     "text": [
      "2\n",
      "3\n",
      "5\n",
      "7\n",
      "11\n",
      "13\n",
      "17\n",
      "19\n",
      "23\n",
      "29\n",
      "31\n",
      "37\n",
      "41\n",
      "43\n",
      "47\n",
      "53\n",
      "59\n",
      "61\n",
      "67\n",
      "71\n",
      "73\n",
      "79\n",
      "83\n",
      "89\n",
      "97\n"
     ]
    }
   ],
   "source": [
    "def is_prime(n):\n",
    "    if n <= 1:\n",
    "        return False\n",
    "    for i in range(2, int(n**0.5) + 1):\n",
    "        if n % i == 0:\n",
    "            return False\n",
    "    return True\n",
    "\n",
    "# Print all prime numbers between 1 and 100\n",
    "for num in range(1, 101):\n",
    "    if is_prime(num):\n",
    "        print(num)"
   ]
  },
  {
   "cell_type": "markdown",
   "metadata": {},
   "source": [
    "## Task: Create a simple text-based Rock, Paper, Scissors game where the player plays against the computer"
   ]
  },
  {
   "cell_type": "code",
   "execution_count": null,
   "metadata": {},
   "outputs": [],
   "source": [
    "def determine_winner(player_choice, computer_choice):\n",
    "    if player_choice == computer_choice:\n",
    "        return \"It's a tie!\"\n",
    "    elif (player_choice == \"rock\" and computer_choice == \"scissors\") or \\\n",
    "         (player_choice == \"paper\" and computer_choice == \"rock\") or \\\n",
    "         (player_choice == \"scissors\" and computer_choice == \"paper\"):\n",
    "        return \"Player wins this round!\"\n",
    "    else:\n",
    "        return \"Computer wins this round!\"\n",
    "\n",
    "def play_game():\n",
    "    # Initialize scores\n",
    "    player_score = 0\n",
    "    computer_score = 0\n",
    "    \n",
    "    choices = [\"rock\", \"paper\", \"scissors\"]\n",
    "    \n",
    "    print(\"Welcome to Rock, Paper, Scissors!\")\n",
    "    \n",
    "    # Game loop, continues until one player reaches 5 points\n",
    "    while player_score < 5 and computer_score < 5:\n",
    "        # Player's choice\n",
    "        player_choice = input(\"Enter your choice (rock, paper, or scissors): \").lower()\n",
    "        \n",
    "        # Validate player input\n",
    "        while player_choice not in choices:\n",
    "            print(\"Invalid choice. Please choose rock, paper, or scissors.\")\n",
    "            player_choice = input(\"Enter your choice (rock, paper, or scissors): \").lower()\n",
    "        \n",
    "        # Computer's choice\n",
    "        computer_choice = random.choice(choices)\n",
    "        print(f\"Computer chose: {computer_choice}\")\n",
    "        \n",
    "        # Determine the winner of the round\n",
    "        result = determine_winner(player_choice, computer_choice)\n",
    "        print(result)\n",
    "        \n",
    "        # Update scores based on the result\n",
    "        if result == \"Player wins this round!\":\n",
    "            player_score += 1\n",
    "        elif result == \"Computer wins this round!\":\n",
    "            computer_score += 1\n",
    "        \n",
    "        # Display current scores\n",
    "        print(f\"Score: Player {player_score} - Computer {computer_score}\\n\")\n",
    "    \n",
    "    # Game end, display the overall winner\n",
    "    if player_score == 5:\n",
    "        print(\"Player wins the match! Congratulations!\")\n",
    "    else:\n",
    "        print(\"Computer wins the match! Better luck next time.\")"
   ]
  }
 ],
 "metadata": {
  "kernelspec": {
   "display_name": "Python 3",
   "language": "python",
   "name": "python3"
  },
  "language_info": {
   "codemirror_mode": {
    "name": "ipython",
    "version": 3
   },
   "file_extension": ".py",
   "mimetype": "text/x-python",
   "name": "python",
   "nbconvert_exporter": "python",
   "pygments_lexer": "ipython3",
   "version": "3.10.10"
  }
 },
 "nbformat": 4,
 "nbformat_minor": 2
}
