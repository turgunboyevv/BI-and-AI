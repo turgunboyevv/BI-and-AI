{
 "cells": [
  {
   "cell_type": "markdown",
   "metadata": {},
   "source": [
    "Zero Check Decorator\n",
    "\n",
    "Write a decorator function called check that verifies that the denominator is not equal to 0 and apply it to the following function:"
   ]
  },
  {
   "cell_type": "code",
   "execution_count": 1,
   "metadata": {},
   "outputs": [
    {
     "name": "stdout",
     "output_type": "stream",
     "text": [
      "3.0\n",
      "Denominator can't be zero\n"
     ]
    }
   ],
   "source": [
    "def check(func):\n",
    "    def wrapper(a, b):\n",
    "        if b == 0:\n",
    "            return \"Denominator can't be zero\"\n",
    "        return func(a, b)\n",
    "    return wrapper\n",
    "\n",
    "@check\n",
    "def div(a, b):\n",
    "    return a / b\n",
    "\n",
    "# Test cases\n",
    "print(div(6, 2))  # Output: 3\n",
    "print(div(6, 0))  # Output: \"Denominator can't be zero\""
   ]
  },
  {
   "cell_type": "markdown",
   "metadata": {},
   "source": [
    "Create a file named \"employees.txt\".\n",
    "Allow the user to add new employee records. Each record should have the following fields:"
   ]
  },
  {
   "cell_type": "code",
   "execution_count": null,
   "metadata": {},
   "outputs": [
    {
     "name": "stdout",
     "output_type": "stream",
     "text": [
      "Enter employee details:\n"
     ]
    }
   ],
   "source": [
    "def add_employee():\n",
    "    with open(\"employees.txt\", \"a\") as file:  # Open the file in append mode\n",
    "        while True:\n",
    "            print(\"Enter employee details:\")\n",
    "            emp_id = input(\"Employee ID: \")\n",
    "            name = input(\"Name: \")\n",
    "            position = input(\"Position: \")\n",
    "            salary = input(\"Salary: \")\n",
    "            \n",
    "            # Write the employee record to the file\n",
    "            file.write(f\"{emp_id}, {name}, {position}, {salary}\\n\")\n",
    "            \n",
    "            # Ask the user if they want to add another record\n",
    "            more = input(\"Do you want to add another employee? (yes/no): \").strip().lower()\n",
    "            if more != \"yes\":\n",
    "                break\n",
    "\n",
    "# Call the function to add employees\n",
    "add_employee()"
   ]
  },
  {
   "cell_type": "markdown",
   "metadata": {},
   "source": [
    "Menu Options\n",
    "Your program should present the following options:\n",
    "\n",
    "1. Add new employee record\n",
    "2. View all employee records\n",
    "3. Search for an employee by Employee ID\n",
    "4. Update an employee's information\n",
    "5. Delete an employee record\n",
    "6. Exit"
   ]
  },
  {
   "cell_type": "code",
   "execution_count": null,
   "metadata": {},
   "outputs": [],
   "source": [
    "def add_employee():\n",
    "    with open(\"employees.txt\", \"a\") as file:\n",
    "        while True:\n",
    "            print(\"Enter employee details:\")\n",
    "            emp_id = input(\"Employee ID: \")\n",
    "            name = input(\"Name: \")\n",
    "            position = input(\"Position: \")\n",
    "            salary = input(\"Salary: \")\n",
    "            \n",
    "            file.write(f\"{emp_id}, {name}, {position}, {salary}\\n\")\n",
    "            \n",
    "            more = input(\"Do you want to add another employee? (yes/no): \").strip().lower()\n",
    "            if more != \"yes\":\n",
    "                break\n",
    "\n",
    "def view_employees():\n",
    "    try:\n",
    "        with open(\"employees.txt\", \"r\") as file:\n",
    "            records = file.readlines()\n",
    "            if records:\n",
    "                print(\"\\nEmployee Records:\")\n",
    "                for record in records:\n",
    "                    print(record.strip())\n",
    "            else:\n",
    "                print(\"\\nNo employee records found.\")\n",
    "    except FileNotFoundError:\n",
    "        print(\"\\nNo employee records found.\")\n",
    "\n",
    "def search_employee():\n",
    "    emp_id = input(\"Enter Employee ID to search: \")\n",
    "    try:\n",
    "        with open(\"employees.txt\", \"r\") as file:\n",
    "            for record in file:\n",
    "                if record.startswith(emp_id + \",\"):\n",
    "                    print(\"\\nEmployee Found:\", record.strip())\n",
    "                    return\n",
    "            print(\"\\nEmployee not found.\")\n",
    "    except FileNotFoundError:\n",
    "        print(\"\\nNo employee records found.\")\n",
    "\n",
    "def update_employee():\n",
    "    emp_id = input(\"Enter Employee ID to update: \")\n",
    "    updated = False\n",
    "    try:\n",
    "        with open(\"employees.txt\", \"r\") as file:\n",
    "            records = file.readlines()\n",
    "        with open(\"employees.txt\", \"w\") as file:\n",
    "            for record in records:\n",
    "                if record.startswith(emp_id + \",\"):\n",
    "                    print(\"\\nCurrent Record:\", record.strip())\n",
    "                    name = input(\"Enter new Name: \")\n",
    "                    position = input(\"Enter new Position: \")\n",
    "                    salary = input(\"Enter new Salary: \")\n",
    "                    file.write(f\"{emp_id}, {name}, {position}, {salary}\\n\")\n",
    "                    updated = True\n",
    "                else:\n",
    "                    file.write(record)\n",
    "        if updated:\n",
    "            print(\"\\nEmployee record updated successfully.\")\n",
    "        else:\n",
    "            print(\"\\nEmployee not found.\")\n",
    "    except FileNotFoundError:\n",
    "        print(\"\\nNo employee records found.\")\n",
    "\n",
    "def delete_employee():\n",
    "    emp_id = input(\"Enter Employee ID to delete: \")\n",
    "    deleted = False\n",
    "    try:\n",
    "        with open(\"employees.txt\", \"r\") as file:\n",
    "            records = file.readlines()\n",
    "        with open(\"employees.txt\", \"w\") as file:\n",
    "            for record in records:\n",
    "                if record.startswith(emp_id + \",\"):\n",
    "                    print(\"\\nDeleting Record:\", record.strip())\n",
    "                    deleted = True\n",
    "                else:\n",
    "                    file.write(record)\n",
    "        if deleted:\n",
    "            print(\"\\nEmployee record deleted successfully.\")\n",
    "        else:\n",
    "            print(\"\\nEmployee not found.\")\n",
    "    except FileNotFoundError:\n",
    "        print(\"\\nNo employee records found.\")\n",
    "\n",
    "def menu():\n",
    "    while True:\n",
    "        print(\"\\nMenu Options:\")\n",
    "        print(\"1. Add new employee record\")\n",
    "        print(\"2. View all employee records\")\n",
    "        print(\"3. Search for an employee by Employee ID\")\n",
    "        print(\"4. Update an employee's information\")\n",
    "        print(\"5. Delete an employee record\")\n",
    "        print(\"6. Exit\")\n",
    "\n",
    "        choice = input(\"Enter your choice (1-6): \")\n",
    "        if choice == \"1\":\n",
    "            add_employee()\n",
    "        elif choice == \"2\":\n",
    "            view_employees()\n",
    "        elif choice == \"3\":\n",
    "            search_employee()\n",
    "        elif choice == \"4\":\n",
    "            update_employee()\n",
    "        elif choice == \"5\":\n",
    "            delete_employee()\n",
    "        elif choice == \"6\":\n",
    "            print(\"\\nExiting program. Goodbye!\")\n",
    "            break\n",
    "        else:\n",
    "            print(\"\\nInvalid choice. Please try again.\")\n",
    "\n",
    "menu()"
   ]
  },
  {
   "cell_type": "markdown",
   "metadata": {},
   "source": [
    "File Input\n",
    "\n",
    "Use the file \"sample.txt\". The file can contain any text (like a paragraph or an article).\n",
    "If \"sample.txt\" does not exist, prompt the user to create it by typing in a paragraph."
   ]
  },
  {
   "cell_type": "code",
   "execution_count": null,
   "metadata": {},
   "outputs": [
    {
     "name": "stdout",
     "output_type": "stream",
     "text": [
      "'sample.txt' does not exist. Let's create it.\n"
     ]
    }
   ],
   "source": [
    "import os\n",
    "\n",
    "def create_file():\n",
    "    with open(\"sample.txt\", \"w\") as file:\n",
    "        print(\"'sample.txt' does not exist. Let's create it.\")\n",
    "        content = input(\"Please type a paragraph to save in 'sample.txt':\\n\")\n",
    "        file.write(content)\n",
    "        print(\"File created successfully.\")\n",
    "\n",
    "def read_file():\n",
    "    try:\n",
    "        with open(\"sample.txt\", \"r\") as file:\n",
    "            content = file.read()\n",
    "            print(\"\\nFile Content:\")\n",
    "            print(content)\n",
    "    except FileNotFoundError:\n",
    "        create_file()\n",
    "\n",
    "# Check if the file exists and handle accordingly\n",
    "read_file()"
   ]
  },
  {
   "cell_type": "markdown",
   "metadata": {},
   "source": [
    "Allow the user to specify how many \"top common words\" to display (e.g., top 3, top 10, etc.).\n",
    "Make sure the program ignores case, punctuation, and handles large files efficiently."
   ]
  },
  {
   "cell_type": "code",
   "execution_count": null,
   "metadata": {},
   "outputs": [],
   "source": [
    "import string\n",
    "from collections import Counter\n",
    "\n",
    "def process_text(file_path, top_n=5):\n",
    "    try:\n",
    "        # Open the file and read the content\n",
    "        with open(file_path, 'r', encoding='utf-8') as file:\n",
    "            text = file.read().lower()  # Convert the text to lowercase\n",
    "\n",
    "        # Remove punctuation\n",
    "        text = text.translate(str.maketrans('', '', string.punctuation))\n",
    "\n",
    "        # Split the text into individual words\n",
    "        words = text.split()\n",
    "\n",
    "        # Count the frequency of each word\n",
    "        word_counts = Counter(words)\n",
    "\n",
    "        # Display the total number of words\n",
    "        total_words = sum(word_counts.values())\n",
    "        print(f\"Total words: {total_words}\")\n",
    "\n",
    "        # Display the top N most common words\n",
    "        print(f\"Top {top_n} most common words:\")\n",
    "        for word, count in word_counts.most_common(top_n):\n",
    "            print(f\"{word} - {count} times\")\n",
    "\n",
    "        # Save the report to a new file\n",
    "        with open('word_count_report.txt', 'w', encoding='utf-8') as report_file:\n",
    "            report_file.write(f\"Word Count Report\\n\")\n",
    "            report_file.write(f\"Total Words: {total_words}\\n\")\n",
    "            report_file.write(f\"Top {top_n} Words:\\n\")\n",
    "            for word, count in word_counts.most_common(top_n):\n",
    "                report_file.write(f\"{word} - {count}\\n\")\n",
    "\n",
    "        print(\"Report saved to 'word_count_report.txt'\")\n",
    "\n",
    "    except FileNotFoundError:\n",
    "        print(\"The specified file was not found. Please make sure the file exists.\")\n",
    "    except Exception as e:\n",
    "        print(f\"An error occurred: {e}\")\n",
    "\n",
    "# Example usage\n",
    "file_path = \"sample.txt\"  # Specify the file path\n",
    "top_n = int(input(\"How many top common words would you like to display? \"))\n",
    "process_text(file_path, top_n)\n"
   ]
  },
  {
   "cell_type": "code",
   "execution_count": null,
   "metadata": {},
   "outputs": [],
   "source": []
  }
 ],
 "metadata": {
  "kernelspec": {
   "display_name": "Python 3",
   "language": "python",
   "name": "python3"
  },
  "language_info": {
   "codemirror_mode": {
    "name": "ipython",
    "version": 3
   },
   "file_extension": ".py",
   "mimetype": "text/x-python",
   "name": "python",
   "nbconvert_exporter": "python",
   "pygments_lexer": "ipython3",
   "version": "3.10.10"
  }
 },
 "nbformat": 4,
 "nbformat_minor": 2
}
