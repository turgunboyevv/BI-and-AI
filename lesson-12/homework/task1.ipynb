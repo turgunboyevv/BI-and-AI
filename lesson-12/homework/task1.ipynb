{
 "cells": [
  {
   "cell_type": "code",
   "execution_count": null,
   "metadata": {},
   "outputs": [],
   "source": [
    "import requests\n",
    "\n",
    "def fetch_weather(city_name, api_key):\n",
    "    # Base URL for the OpenWeatherMap API\n",
    "    url = f\"https://openweathermap.org/\"\n",
    "    \n",
    "    try:\n",
    "        # Sending the HTTP request to fetch weather data\n",
    "        response = requests.get(url)\n",
    "        response.raise_for_status()  # Raise an error for bad HTTP responses\n",
    "        \n",
    "        # Parsing JSON data from the API\n",
    "        weather_data = response.json()\n",
    "        \n",
    "        # Extracting relevant information\n",
    "        city = weather_data[\"name\"]\n",
    "        temperature = weather_data[\"main\"][\"temp\"]\n",
    "        humidity = weather_data[\"main\"][\"humidity\"]\n",
    "        description = weather_data[\"weather\"][0][\"description\"]\n",
    "        wind_speed = weather_data[\"wind\"][\"speed\"]\n",
    "        \n",
    "        # Displaying the weather information\n",
    "        print(f\"Weather in {city}:\")\n",
    "        print(f\"Temperature: {temperature}°C\")\n",
    "        print(f\"Humidity: {humidity}%\")\n",
    "        print(f\"Description: {description.capitalize()}\")\n",
    "        print(f\"Wind Speed: {wind_speed} m/s\")\n",
    "    except requests.exceptions.RequestException as e:\n",
    "        print(f\"An error occurred: {e}\")\n",
    "    except KeyError:\n",
    "        print(\"Unexpected data format received. Check the API response.\")\n",
    "\n",
    "# Replace 'your_api_key_here' with your actual OpenWeatherMap API key\n",
    "API_KEY = \"your_api_key_here\"\n",
    "fetch_weather(\"Tashkent\", API_KEY)\n"
   ]
  },
  {
   "cell_type": "code",
   "execution_count": null,
   "metadata": {},
   "outputs": [],
   "source": []
  }
 ],
 "metadata": {
  "kernelspec": {
   "display_name": "Python 3",
   "language": "python",
   "name": "python3"
  },
  "language_info": {
   "codemirror_mode": {
    "name": "ipython",
    "version": 3
   },
   "file_extension": ".py",
   "mimetype": "text/x-python",
   "name": "python",
   "nbconvert_exporter": "python",
   "pygments_lexer": "ipython3",
   "version": "3.10.10"
  }
 },
 "nbformat": 4,
 "nbformat_minor": 2
}
