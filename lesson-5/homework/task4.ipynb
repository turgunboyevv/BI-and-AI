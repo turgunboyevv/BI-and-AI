{
 "cells": [
  {
   "cell_type": "markdown",
   "metadata": {},
   "source": [
    "## Write a program that contains the following lists of lists:"
   ]
  },
  {
   "cell_type": "code",
   "execution_count": 2,
   "metadata": {},
   "outputs": [
    {
     "name": "stdout",
     "output_type": "stream",
     "text": [
      "Total students: 77,285\n",
      "Total tuition: $ 271,905\n",
      "\n",
      "Student mean: 11,040.71\n",
      "Student median: 10,566\n",
      "\n",
      "Tuition mean: $ 38,843.57\n",
      "Tuition median: $ 39,849\n"
     ]
    }
   ],
   "source": [
    "universities = [\n",
    "    ['California Institute of Technology', 2175, 37704],\n",
    "    ['Harvard', 19627, 39849],\n",
    "    ['Massachusetts Institute of Technology', 10566, 40732],\n",
    "    ['Princeton', 7802, 37000],\n",
    "    ['Rice', 5879, 35551],\n",
    "    ['Stanford', 19535, 40569],\n",
    "    ['Yale', 11701, 40500]\n",
    "]\n",
    "\n",
    "def enrollment_stats(university_data):\n",
    "    \"\"\"\n",
    "    Extracts student enrollments and tuition fees from the given data.\n",
    "\n",
    "    :param university_data: List of lists, each containing university name, enrollment, and tuition.\n",
    "    :return: Two lists - one with student enrollments and the other with tuition fees.\n",
    "    \"\"\"\n",
    "    enrollments = [data[1] for data in university_data]\n",
    "    tuitions = [data[2] for data in university_data]\n",
    "    return enrollments, tuitions\n",
    "\n",
    "def mean(values):\n",
    "    \"\"\"\n",
    "    Calculates the mean of a list of numbers.\n",
    "\n",
    "    :param values: List of numeric values.\n",
    "    :return: Mean of the values.\n",
    "    \"\"\"\n",
    "    return sum(values) / len(values)\n",
    "\n",
    "def median(values):\n",
    "    \"\"\"\n",
    "    Calculates the median of a list of numbers.\n",
    "\n",
    "    :param values: List of numeric values.\n",
    "    :return: Median of the values.\n",
    "    \"\"\"\n",
    "    sorted_values = sorted(values)\n",
    "    mid = len(sorted_values) // 2\n",
    "\n",
    "    if len(sorted_values) % 2 == 0:\n",
    "        return (sorted_values[mid - 1] + sorted_values[mid]) / 2\n",
    "    else:\n",
    "        return sorted_values[mid]\n",
    "\n",
    "if __name__ == \"__main__\":\n",
    "    # Get enrollments and tuitions from the data\n",
    "    enrollments, tuitions = enrollment_stats(universities)\n",
    "\n",
    "    # Calculate totals, means, and medians\n",
    "    total_students = sum(enrollments)\n",
    "    total_tuition = sum(tuitions)\n",
    "\n",
    "    student_mean = mean(enrollments)\n",
    "    student_median = median(enrollments)\n",
    "\n",
    "    tuition_mean = mean(tuitions)\n",
    "    tuition_median = median(tuitions)\n",
    "\n",
    "    # Display the results\n",
    "    print(f\"Total students: {total_students:,}\")\n",
    "    print(f\"Total tuition: $ {total_tuition:,}\")\n",
    "    print()\n",
    "    print(f\"Student mean: {student_mean:,.2f}\")\n",
    "    print(f\"Student median: {student_median:,}\")\n",
    "    print()\n",
    "    print(f\"Tuition mean: $ {tuition_mean:,.2f}\")\n",
    "    print(f\"Tuition median: $ {tuition_median:,}\")"
   ]
  },
  {
   "cell_type": "code",
   "execution_count": null,
   "metadata": {},
   "outputs": [],
   "source": []
  }
 ],
 "metadata": {
  "kernelspec": {
   "display_name": "Python 3",
   "language": "python",
   "name": "python3"
  },
  "language_info": {
   "codemirror_mode": {
    "name": "ipython",
    "version": 3
   },
   "file_extension": ".py",
   "mimetype": "text/x-python",
   "name": "python",
   "nbconvert_exporter": "python",
   "pygments_lexer": "ipython3",
   "version": "3.10.10"
  }
 },
 "nbformat": 4,
 "nbformat_minor": 2
}
