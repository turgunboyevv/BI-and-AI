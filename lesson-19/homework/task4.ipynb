{
 "cells": [
  {
   "cell_type": "code",
   "execution_count": 1,
   "metadata": {},
   "outputs": [],
   "source": [
    "import pandas as pd"
   ]
  },
  {
   "cell_type": "code",
   "execution_count": null,
   "metadata": {},
   "outputs": [],
   "source": [
    "import pandas as pd\n",
    "\n",
    "# titanic.csv faylini yuklash\n",
    "titanic_df = pd.read_csv('titanic.csv')\n",
    "\n",
    "# Yo'lovchilarni klassifikatsiya qiluvchi funksiya\n",
    "def classify_age(age):\n",
    "    if age < 18:\n",
    "        return 'Child'\n",
    "    else:\n",
    "        return 'Adult'\n",
    "\n",
    "# apply yordamida Age_Group ustunini yaratish\n",
    "titanic_df['Age_Group'] = titanic_df['Age'].apply(classify_age)\n",
    "\n",
    "# Natijani chiqarish\n",
    "print(titanic_df[['Age', 'Age_Group']].head())"
   ]
  },
  {
   "cell_type": "code",
   "execution_count": null,
   "metadata": {},
   "outputs": [],
   "source": [
    "import sqlite3\n",
    "import pandas as pd\n",
    "\n",
    "# chinook.db bazasiga ulanish\n",
    "conn = sqlite3.connect('chinook.db')\n",
    "\n",
    "# employees jadvalini yuklash\n",
    "employees_df = pd.read_sql_query(\"SELECT * FROM employees\", conn)\n",
    "\n",
    "# Maoshlarni normallashtiruvchi funksiya\n",
    "def normalize_salary(group):\n",
    "    mean_salary = group['Salary'].mean()\n",
    "    return group['Salary'] / mean_salary\n",
    "\n",
    "# apply yordamida maoshlarni normallashtirish\n",
    "employees_df['NormalizedSalary'] = employees_df.groupby('ReportsTo').apply(normalize_salary).reset_index(level=0, drop=True)\n",
    "\n",
    "\n",
    "# Natijani chiqarish\n",
    "print(employees_df[['Salary', 'ReportsTo', 'NormalizedSalary']].head())\n",
    "\n",
    "# Bazaga ulanishni yopish\n",
    "conn.close()"
   ]
  },
  {
   "cell_type": "code",
   "execution_count": null,
   "metadata": {},
   "outputs": [],
   "source": [
    "import pandas as pd\n",
    "\n",
    "# movie.csv faylini yuklash\n",
    "movie_df = pd.read_csv('movie.csv')\n",
    "\n",
    "# Film davomiyligiga qarab klassifikatsiya qiluvchi funksiya\n",
    "def classify_duration(duration):\n",
    "    if duration < 60:\n",
    "        return 'Short'\n",
    "    elif 60 <= duration <= 120:\n",
    "        return 'Medium'\n",
    "    else:\n",
    "        return 'Long'\n",
    "\n",
    "# apply yordamida Duration_Group ustunini yaratish\n",
    "movie_df['Duration_Group'] = movie_df['duration'].apply(classify_duration)\n",
    "\n",
    "# Natijani chiqarish\n",
    "print(movie_df[['duration', 'Duration_Group']].head())"
   ]
  }
 ],
 "metadata": {
  "kernelspec": {
   "display_name": "Python 3",
   "language": "python",
   "name": "python3"
  },
  "language_info": {
   "codemirror_mode": {
    "name": "ipython",
    "version": 3
   },
   "file_extension": ".py",
   "mimetype": "text/x-python",
   "name": "python",
   "nbconvert_exporter": "python",
   "pygments_lexer": "ipython3",
   "version": "3.10.10"
  }
 },
 "nbformat": 4,
 "nbformat_minor": 2
}
