{
 "cells": [
  {
   "cell_type": "code",
   "execution_count": 1,
   "metadata": {},
   "outputs": [],
   "source": [
    "import pandas as pd"
   ]
  },
  {
   "cell_type": "code",
   "execution_count": null,
   "metadata": {},
   "outputs": [],
   "source": [
    "import pandas as pd\n",
    "\n",
    "# titanic.csv faylini yuklash\n",
    "titanic_df = pd.read_csv('titanic.csv')\n",
    "\n",
    "# Filtrlash funksiyasi\n",
    "def filter_survived(df):\n",
    "    return df[df['Survived'] == 1]\n",
    "\n",
    "# Bo'sh yoshlarni to'ldirish funksiyasi\n",
    "def fill_missing_age(df):\n",
    "    mean_age = df['Age'].mean()\n",
    "    df['Age'] = df['Age'].fillna(mean_age)\n",
    "    return df\n",
    "\n",
    "# Yangi ustun yaratish funksiyasi\n",
    "def create_fare_per_age(df):\n",
    "    df['Fare_Per_Age'] = df['Fare'] / df['Age']\n",
    "    return df\n",
    "\n",
    "\n",
    "# Pipeline\n",
    "pipeline = [filter_survived, fill_missing_age, create_fare_per_age]\n",
    "\n",
    "# apply qilish\n",
    "processed_titanic_df = titanic_df.copy().pipe(lambda x: x.pipe(*pipeline))\n",
    "\n",
    "# Natijani chiqarish\n",
    "print(processed_titanic_df[['Survived', 'Age', 'Fare', 'Fare_Per_Age']].head())"
   ]
  },
  {
   "cell_type": "code",
   "execution_count": null,
   "metadata": {},
   "outputs": [],
   "source": [
    "import pandas as pd\n",
    "\n",
    "# flights.csv faylini yuklash\n",
    "flights_df = pd.read_csv('flights.csv')\n",
    "\n",
    "# Parvozlarni filtrlash funksiyasi\n",
    "def filter_delay(df):\n",
    "    return df[df['dep_delay'] > 30]\n",
    "\n",
    "# Kechikishni hisoblash funksiyasi\n",
    "def create_delay_per_hour(df):\n",
    "    df['Delay_Per_Hour'] = df['dep_delay'] / df['air_time']\n",
    "    return df\n",
    "\n",
    "# Pipeline\n",
    "pipeline = [filter_delay, create_delay_per_hour]\n",
    "\n",
    "# apply qilish\n",
    "processed_flights_df = flights_df.copy().pipe(lambda x: x.pipe(*pipeline))\n",
    "\n",
    "# Natijani chiqarish\n",
    "print(processed_flights_df[['dep_delay', 'air_time', 'Delay_Per_Hour']].head())"
   ]
  }
 ],
 "metadata": {
  "kernelspec": {
   "display_name": "Python 3",
   "language": "python",
   "name": "python3"
  },
  "language_info": {
   "codemirror_mode": {
    "name": "ipython",
    "version": 3
   },
   "file_extension": ".py",
   "mimetype": "text/x-python",
   "name": "python",
   "nbconvert_exporter": "python",
   "pygments_lexer": "ipython3",
   "version": "3.10.10"
  }
 },
 "nbformat": 4,
 "nbformat_minor": 2
}
