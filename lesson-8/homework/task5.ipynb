{
 "cells": [
  {
   "cell_type": "markdown",
   "metadata": {},
   "source": [
    "Deposit Money\n",
    "\n",
    "Prompt the user for their account number and deposit amount.\n",
    "Validate the amount and update the account balance."
   ]
  },
  {
   "cell_type": "markdown",
   "metadata": {},
   "source": [
    "Code Implementation for Depositing Money"
   ]
  },
  {
   "cell_type": "code",
   "execution_count": null,
   "metadata": {},
   "outputs": [],
   "source": [
    "class Bank:\n",
    "    def __init__(self):\n",
    "        self.accounts = {}\n",
    "        self.load_from_file()\n",
    "\n",
    "    def deposit(self, account_number, amount):\n",
    "        # Check if the account exists\n",
    "        account = self.accounts.get(account_number)\n",
    "        if account:\n",
    "            # Validate deposit amount\n",
    "            if amount > 0:\n",
    "                account.balance += amount\n",
    "                print(f\"Deposit successful! Your new balance is: {account.balance}\")\n",
    "                self.save_to_file()\n",
    "            else:\n",
    "                print(\"Error: Deposit amount must be greater than 0.\")\n",
    "        else:\n",
    "            print(f\"Error: Account number {account_number} not found.\")\n",
    "    \n",
    "    def load_from_file(self):\n",
    "        try:\n",
    "            with open(\"accounts.json\", \"r\") as file:\n",
    "                accounts_data = json.load(file)\n",
    "                self.accounts = {\n",
    "                    int(acc_num): Account(\n",
    "                        acc_data[\"account_number\"],\n",
    "                        acc_data[\"name\"],\n",
    "                        acc_data[\"balance\"],\n",
    "                    )\n",
    "                    for acc_num, acc_data in accounts_data.items()\n",
    "                }\n",
    "        except FileNotFoundError:\n",
    "            self.accounts = {}\n",
    "\n",
    "    def save_to_file(self):\n",
    "        with open(\"accounts.json\", \"w\") as file:\n",
    "            accounts_data = {\n",
    "                acc_num: acc.to_dict() for acc_num, acc in self.accounts.items()\n",
    "            }\n",
    "            json.dump(accounts_data, file)\n",
    "\n",
    "\n",
    "class Account:\n",
    "    def __init__(self, account_number, name, balance=0):\n",
    "        self.account_number = account_number\n",
    "        self.name = name\n",
    "        self.balance = balance\n",
    "\n",
    "    def to_dict(self):\n",
    "        return {\n",
    "            \"account_number\": self.account_number,\n",
    "            \"name\": self.name,\n",
    "            \"balance\": self.balance,\n",
    "        }\n",
    "\n",
    "\n",
    "# Example usage\n",
    "if __name__ == \"__main__\":\n",
    "    bank = Bank()\n",
    "    try:\n",
    "        account_number = int(input(\"Enter your account number: \"))\n",
    "        amount = float(input(\"Enter amount to deposit: \"))\n",
    "        bank.deposit(account_number, amount)\n",
    "    except ValueError:\n",
    "        print(\"Error: Please enter valid numbers.\")\n"
   ]
  }
 ],
 "metadata": {
  "language_info": {
   "name": "python"
  }
 },
 "nbformat": 4,
 "nbformat_minor": 2
}
