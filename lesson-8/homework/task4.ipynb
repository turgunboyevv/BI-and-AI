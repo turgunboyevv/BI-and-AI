{
 "cells": [
  {
   "cell_type": "code",
   "execution_count": null,
   "metadata": {},
   "outputs": [],
   "source": [
    "class Bank:\n",
    "    def __init__(self):\n",
    "        self.accounts = {}\n",
    "        self.load_from_file()\n",
    "\n",
    "    def view_account(self, account_number):\n",
    "        # Check if the account exists\n",
    "        account = self.accounts.get(account_number)\n",
    "        if account:\n",
    "            # Display account details\n",
    "            print(\"\\n--- Account Details ---\")\n",
    "            print(f\"Account Number: {account.account_number}\")\n",
    "            print(f\"Name: {account.name}\")\n",
    "            print(f\"Balance: {account.balance}\")\n",
    "        else:\n",
    "            # Show error message if account is not found\n",
    "            print(f\"Error: Account number {account_number} not found.\")\n",
    "\n",
    "    def load_from_file(self):\n",
    "        try:\n",
    "            with open(\"accounts.json\", \"r\") as file:\n",
    "                accounts_data = json.load(file)\n",
    "                self.accounts = {\n",
    "                    int(acc_num): Account(\n",
    "                        acc_data[\"account_number\"],\n",
    "                        acc_data[\"name\"],\n",
    "                        acc_data[\"balance\"],\n",
    "                    )\n",
    "                    for acc_num, acc_data in accounts_data.items()\n",
    "                }\n",
    "        except FileNotFoundError:\n",
    "            self.accounts = {}\n",
    "\n",
    "\n",
    "# Example usage\n",
    "if __name__ == \"__main__\":\n",
    "    bank = Bank()\n",
    "    try:\n",
    "        account_number = int(input(\"Enter your account number: \"))\n",
    "        bank.view_account(account_number)\n",
    "    except ValueError:\n",
    "        print(\"Error: Please enter a valid account number.\")"
   ]
  }
 ],
 "metadata": {
  "language_info": {
   "name": "python"
  }
 },
 "nbformat": 4,
 "nbformat_minor": 2
}
