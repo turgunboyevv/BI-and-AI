{
 "cells": [
  {
   "cell_type": "markdown",
   "metadata": {},
   "source": [
    "Withdraw Money\n",
    "\n",
    "Prompt the user for their account number and withdrawal amount.\n",
    "Validate that the amount is less than or equal to the balance and update the account balance."
   ]
  },
  {
   "cell_type": "code",
   "execution_count": null,
   "metadata": {},
   "outputs": [],
   "source": [
    "class Bank:\n",
    "    def __init__(self):\n",
    "        self.accounts = {}\n",
    "        self.load_from_file()\n",
    "\n",
    "    def withdraw(self, account_number, amount):\n",
    "        # Check if the account exists\n",
    "        account = self.accounts.get(account_number)\n",
    "        if account:\n",
    "            # Validate withdrawal amount\n",
    "            if amount > 0:\n",
    "                if amount <= account.balance:\n",
    "                    account.balance -= amount\n",
    "                    print(f\"Withdrawal successful! Your new balance is: {account.balance}\")\n",
    "                    self.save_to_file()\n",
    "                else:\n",
    "                    print(\"Error: Insufficient funds.\")\n",
    "            else:\n",
    "                print(\"Error: Withdrawal amount must be greater than 0.\")\n",
    "        else:\n",
    "            print(f\"Error: Account number {account_number} not found.\")\n",
    "\n",
    "    def load_from_file(self):\n",
    "        try:\n",
    "            with open(\"accounts.json\", \"r\") as file:\n",
    "                accounts_data = json.load(file)\n",
    "                self.accounts = {\n",
    "                    int(acc_num): Account(\n",
    "                        acc_data[\"account_number\"],\n",
    "                        acc_data[\"name\"],\n",
    "                        acc_data[\"balance\n"
   ]
  }
 ],
 "metadata": {
  "language_info": {
   "name": "python"
  }
 },
 "nbformat": 4,
 "nbformat_minor": 2
}
