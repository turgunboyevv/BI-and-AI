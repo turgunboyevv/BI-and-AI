{
 "cells": [
  {
   "cell_type": "markdown",
   "metadata": {},
   "source": [
    "In this assignment, you’ll create a simplified model of a farm. As you work through this assignment, keep in mind that there are a number of correct answers.\n",
    "\n",
    "The focus of this assignment is less about the Python class syntax and more about software design in general, which is highly subjective. This assignment is intentionally left open-ended to encourage you to think about how you would organize your code into classes.\n",
    "\n",
    "Before you write any code, grab a pen and paper and sketch out a model of your farm, identifying classes, attributes, and methods. Think about inheritance. How can you prevent code duplication? Take the time to work through as many iterations as you feel are necessary.\n",
    "\n",
    "The actual requirements are open to interpretation, but try to adhere to these guidelines:\n",
    "\n",
    "You should have at least four classes: the parent Animal class, and then at least three child animal classes that inherit from Animal.\n",
    "Each class should have a few attributes and at least one method that models some behavior appropriate for a specific animal or all animals—such as walking, running, eating, sleeping, and so on.\n",
    "Keep it simple. Utilize inheritance. Make sure you output details about the animals and their behaviors."
   ]
  },
  {
   "cell_type": "code",
   "execution_count": 1,
   "metadata": {},
   "outputs": [
    {
     "name": "stdout",
     "output_type": "stream",
     "text": [
      "Bessie the Cow is eating.\n",
      "Bessie the Cow is sleeping.\n",
      "Bessie the Cow says 'Moo'.\n",
      "Clucky the Chicken is eating.\n",
      "Clucky the Chicken is sleeping.\n",
      "Clucky the Chicken says 'Cluck'.\n",
      "Wooly the Sheep is eating.\n",
      "Wooly the Sheep is sleeping.\n",
      "Wooly the Sheep says 'Baa'.\n",
      "Bessie is producing milk.\n",
      "Clucky laid an egg.\n",
      "Wooly is growing wool.\n"
     ]
    }
   ],
   "source": [
    "class Animal:\n",
    "    def __init__(self, name, species, sound):\n",
    "        self.name = name\n",
    "        self.species = species\n",
    "        self.sound = sound\n",
    "\n",
    "    def eat(self):\n",
    "        return f\"{self.name} the {self.species} is eating.\"\n",
    "\n",
    "    def sleep(self):\n",
    "        return f\"{self.name} the {self.species} is sleeping.\"\n",
    "\n",
    "    def make_sound(self):\n",
    "        return f\"{self.name} the {self.species} says '{self.sound}'.\"\n",
    "\n",
    "\n",
    "class Cow(Animal):\n",
    "    def __init__(self, name):\n",
    "        super().__init__(name, \"Cow\", \"Moo\")\n",
    "\n",
    "    def produce_milk(self):\n",
    "        return f\"{self.name} is producing milk.\"\n",
    "\n",
    "\n",
    "class Chicken(Animal):\n",
    "    def __init__(self, name):\n",
    "        super().__init__(name, \"Chicken\", \"Cluck\")\n",
    "\n",
    "    def lay_egg(self):\n",
    "        return f\"{self.name} laid an egg.\"\n",
    "\n",
    "\n",
    "class Sheep(Animal):\n",
    "    def __init__(self, name):\n",
    "        super().__init__(name, \"Sheep\", \"Baa\")\n",
    "\n",
    "    def produce_wool(self):\n",
    "        return f\"{self.name} is growing wool.\"\n",
    "\n",
    "\n",
    "# Example usage\n",
    "def main():\n",
    "    bessie = Cow(\"Bessie\")\n",
    "    clucky = Chicken(\"Clucky\")\n",
    "    wooly = Sheep(\"Wooly\")\n",
    "\n",
    "    farm_animals = [bessie, clucky, wooly]\n",
    "\n",
    "    for animal in farm_animals:\n",
    "        print(animal.eat())\n",
    "        print(animal.sleep())\n",
    "        print(animal.make_sound())\n",
    "\n",
    "    print(bessie.produce_milk())\n",
    "    print(clucky.lay_egg())\n",
    "    print(wooly.produce_wool())\n",
    "\n",
    "\n",
    "if __name__ == \"__main__\":\n",
    "    main()\n"
   ]
  },
  {
   "cell_type": "code",
   "execution_count": null,
   "metadata": {},
   "outputs": [],
   "source": []
  }
 ],
 "metadata": {
  "kernelspec": {
   "display_name": "Python 3",
   "language": "python",
   "name": "python3"
  },
  "language_info": {
   "codemirror_mode": {
    "name": "ipython",
    "version": 3
   },
   "file_extension": ".py",
   "mimetype": "text/x-python",
   "name": "python",
   "nbconvert_exporter": "python",
   "pygments_lexer": "ipython3",
   "version": "3.10.10"
  }
 },
 "nbformat": 4,
 "nbformat_minor": 2
}
